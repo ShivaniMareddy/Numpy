{
  "nbformat": 4,
  "nbformat_minor": 0,
  "metadata": {
    "colab": {
      "provenance": [],
      "authorship_tag": "ABX9TyMAxUklNEF0aiIim/DwGfV5",
      "include_colab_link": true
    },
    "kernelspec": {
      "name": "python3",
      "display_name": "Python 3"
    },
    "language_info": {
      "name": "python"
    }
  },
  "cells": [
    {
      "cell_type": "markdown",
      "metadata": {
        "id": "view-in-github",
        "colab_type": "text"
      },
      "source": [
        "<a href=\"https://colab.research.google.com/github/ShivaniMareddy/Numpy/blob/main/Numpy(TekAIDS).ipynb\" target=\"_parent\"><img src=\"https://colab.research.google.com/assets/colab-badge.svg\" alt=\"Open In Colab\"/></a>"
      ]
    },
    {
      "cell_type": "code",
      "execution_count": 2,
      "metadata": {
        "colab": {
          "base_uri": "https://localhost:8080/"
        },
        "id": "ZriXiKE6EK3B",
        "outputId": "7dcc5b9e-b4ed-4039-a10e-1b26442b0f35"
      },
      "outputs": [
        {
          "output_type": "stream",
          "name": "stdout",
          "text": [
            "[1 2 3]\n"
          ]
        }
      ],
      "source": [
        "import numpy as np\n",
        "arr_1d=np.array([1,2,3])\n",
        "print(arr_1d)"
      ]
    },
    {
      "cell_type": "code",
      "source": [
        "import numpy as np\n",
        "arr_2d=np.array([[1,2,3],[4,5,6]])\n",
        "print(arr_2d)"
      ],
      "metadata": {
        "colab": {
          "base_uri": "https://localhost:8080/"
        },
        "id": "mSo7wRHCEZmw",
        "outputId": "f444862c-8f6b-4032-ddcd-a1d23f33bed5"
      },
      "execution_count": 5,
      "outputs": [
        {
          "output_type": "stream",
          "name": "stdout",
          "text": [
            "[[1 2 3]\n",
            " [4 5 6]]\n"
          ]
        }
      ]
    },
    {
      "cell_type": "code",
      "source": [
        "import numpy as np\n",
        "arr_0d=np.array(52)\n",
        "arr_1d=np.array([1,2,3])\n",
        "arr_2d=np.array([[1,2,3],[4,5,6]])\n",
        "arr_3d=np.array([[[1,2,3],[4,5,6]],[[1,2,3],[4,5,6]]])\n",
        "print(arr_0d.ndim)\n",
        "print(arr_1d.ndim)\n",
        "print(arr_2d.ndim)\n",
        "print(arr_3d.ndim)"
      ],
      "metadata": {
        "colab": {
          "base_uri": "https://localhost:8080/"
        },
        "id": "v76QAFRvEzEm",
        "outputId": "447f2b5f-c121-4235-a307-f1a93f3ec0c8"
      },
      "execution_count": 7,
      "outputs": [
        {
          "output_type": "stream",
          "name": "stdout",
          "text": [
            "0\n",
            "1\n",
            "2\n",
            "3\n"
          ]
        }
      ]
    },
    {
      "cell_type": "code",
      "source": [
        "#array of zeros\n",
        "zeros=np.zeros((2,3))\n",
        "print(zeros)\n",
        "\n",
        "#array of ones\n",
        "ones=np.ones((3,3))\n",
        "print(ones)\n",
        "\n",
        "#array of random\n",
        "random_arr=np.random.random((2,2))\n",
        "print(random_arr)\n",
        "\n",
        "#identity\n",
        "identity=np.eye(3)\n",
        "print(identity)\n",
        "\n",
        "#Array with a range of values\n",
        "range_arr=np.arange(0,10,2)#Start,Stop,Step\n",
        "print(range_arr)"
      ],
      "metadata": {
        "colab": {
          "base_uri": "https://localhost:8080/"
        },
        "id": "djbmFAVkFhXR",
        "outputId": "d044a92a-8859-4b36-e134-1fe4c96f54d3"
      },
      "execution_count": 13,
      "outputs": [
        {
          "output_type": "stream",
          "name": "stdout",
          "text": [
            "[[0. 0. 0.]\n",
            " [0. 0. 0.]]\n",
            "[[1. 1. 1.]\n",
            " [1. 1. 1.]\n",
            " [1. 1. 1.]]\n",
            "[[0.56023003 0.49656138]\n",
            " [0.49766717 0.80131428]]\n",
            "[[1. 0. 0.]\n",
            " [0. 1. 0.]\n",
            " [0. 0. 1.]]\n",
            "[0 2 4 6 8]\n"
          ]
        }
      ]
    },
    {
      "cell_type": "code",
      "source": [
        "arr=np.array([[1,2,3],[4,5,6]])\n",
        "print(\"Shape:\",arr.shape)\n",
        "print(\"Size:\",arr.size)\n",
        "print(\"Data Type:\",arr.dtype)\n",
        "print(\"Number of Dimensions:\",arr.ndim)"
      ],
      "metadata": {
        "colab": {
          "base_uri": "https://localhost:8080/"
        },
        "id": "M74X8-XnHy-g",
        "outputId": "c866acdd-096b-4d57-e435-7b317875ba59"
      },
      "execution_count": 14,
      "outputs": [
        {
          "output_type": "stream",
          "name": "stdout",
          "text": [
            "Shape: (2, 3)\n",
            "Size: 6\n",
            "Data Type: int64\n",
            "Number of Dimensions: 2\n"
          ]
        }
      ]
    },
    {
      "cell_type": "markdown",
      "source": [
        "You are working as a Data Engineer for a smart agriculture startup that collects sensor data from multiple greenhouses.\n",
        "\n",
        "Each greenhouse has sensors that record temperature (°C) readings at different times of the day.\n",
        "You received the following data:\n",
        "Your tasks are:\n",
        "Create NumPy arrays\n",
        "Create a 2D NumPy array named temp_data to represent the temperature readings from both greenhouses.\n",
        "Print the array.\n",
        "Check array properties\n",
        "Print the shape, size, data type, and number of dimensions of temp_data.\n",
        "Add a third greenhouse\n",
        "The third greenhouse (GH3) records [21, 23, 22].\n",
        "Create a new array updated_temp_data that includes all three greenhouses.\n",
        "Generate supporting data\n",
        "Create a zeros array (2×3) called sensor_error_flags to represent whether there were any sensor errors (0 means no error).\n",
        "Create an identity matrix of size 3×3 named greenhouse_identity to uniquely identify each greenhouse.\n",
        "Display all arrays\n",
        "Print updated_temp_data, sensor_error_flags, and greenhouse_identity."
      ],
      "metadata": {
        "id": "X9v3SfsFL4cm"
      }
    },
    {
      "cell_type": "code",
      "source": [
        "temp_data=np.array([[22,25,20],[24,26,23]])\n",
        "print(\"Temperature Data:\",temp_data)\n",
        "print(\"Shape:\",temp_data.shape)\n",
        "print(\"Size:\",temp_data.size)\n",
        "print(\"Data Type:\",temp_data.dtype)\n",
        "print(\"Number of Dimensions:\",temp_data.ndim)\n",
        "updated_temp_data=np.array([[22,25,20],[24,26,23],[21,23,22]])\n",
        "sensor_error_flags=np.zeros((2,3))\n",
        "greenhouse_identity=np.eye(3)\n",
        "print(\"Updated Temperature data:\",updated_temp_data)\n",
        "print(\"Sensor Error flags:\",sensor_error_flags)\n",
        "print(\"Identity:\",greenhouse_identity)\n"
      ],
      "metadata": {
        "colab": {
          "base_uri": "https://localhost:8080/"
        },
        "id": "Bm7es4S5JOK7",
        "outputId": "e393c9e3-c219-4a12-e5bd-4f3350f384ba"
      },
      "execution_count": 19,
      "outputs": [
        {
          "output_type": "stream",
          "name": "stdout",
          "text": [
            "Temperature Data: [[22 25 20]\n",
            " [24 26 23]]\n",
            "Shape: (2, 3)\n",
            "Size: 6\n",
            "Data Type: int64\n",
            "Number of Dimensions: 2\n",
            "Updated Temperature data: [[22 25 20]\n",
            " [24 26 23]\n",
            " [21 23 22]]\n",
            "Sensor Error flags: [[0. 0. 0.]\n",
            " [0. 0. 0.]]\n",
            "Identity: [[1. 0. 0.]\n",
            " [0. 1. 0.]\n",
            " [0. 0. 1.]]\n"
          ]
        }
      ]
    },
    {
      "cell_type": "code",
      "source": [
        "#Indexing and Slicing\n",
        "arr=np.array([[10,20,30],[40,50,60]])\n",
        "print(arr[0,1])\n",
        "print(arr[1,2])\n",
        "print(arr[1,0])\n",
        "#Slicing\n",
        "print(arr[:1])\n",
        "print(arr[1:])\n",
        "print(arr[0::2])"
      ],
      "metadata": {
        "colab": {
          "base_uri": "https://localhost:8080/"
        },
        "id": "rmPbGXFDMxO3",
        "outputId": "91abd838-6287-4053-9c2e-e0ff59b523e5"
      },
      "execution_count": 27,
      "outputs": [
        {
          "output_type": "stream",
          "name": "stdout",
          "text": [
            "20\n",
            "60\n",
            "40\n",
            "[[10 20 30]]\n",
            "[[40 50 60]]\n",
            "[[10 20 30]]\n"
          ]
        }
      ]
    },
    {
      "cell_type": "markdown",
      "source": [
        "Indexing and Slicing:\n",
        "You are working as a Data Analyst at a fruit distribution company.\n",
        "\n",
        "The company stores the number of fruit boxes shipped per day (for 1 week) in a 2D NumPy array where:\n",
        "Each row represents a type of fruit.\n",
        "Each column represents a day of the week (Mon–Sun).\n",
        "\n",
        "Your Tasks\n",
        "Create the 2D NumPy array\n",
        "\n",
        "Create an array named shipments using the above data.\n",
        "Access single elements (Indexing):\n",
        "Get the number of Apples shipped on Wednesday.\n",
        "Get the number of Oranges shipped on Sunday.\n",
        "Access multiple elements (Slicing):\n",
        "Extract all the weekday shipments (Mon–Fri) for all fruits.\n",
        "Extract only the weekend shipments (Sat & Sun).\n",
        "Extract the shipments of Apples from Wednesday to Saturday.\n",
        "Bonus (Practice thinking):\n",
        "Replace the Saturday shipment of Apples (currently 80) with 100 using indexing.\n",
        ""
      ],
      "metadata": {
        "id": "akRgPLvVOcPz"
      }
    },
    {
      "cell_type": "code",
      "source": [
        "shipments=np.array([[50,60,55,70,65,80,90],[40,45,50,60,55,70,75]])\n",
        "print(\"Shipments:\",shipments)\n",
        "print(\"Apples shipped on Wednesday:\",shipments[0,2])\n",
        "print(\"Oranges shipped on Sunday:\",shipments[1,6])\n",
        "print(\"Weekday shipments (Mon–Fri) for all fruits.\",shipments[0:2,0:5])\n",
        "print(\"Weekend shipments (Sat & Sun).\",shipments[0:2,5:7])\n",
        "print(\"Apples from Wednesday to Saturday.\",shipments[0,2:6])\n",
        "shipments[0,5]=100\n",
        "print(\"Shipments:\",shipments)"
      ],
      "metadata": {
        "colab": {
          "base_uri": "https://localhost:8080/"
        },
        "id": "BItNTS4LNq_c",
        "outputId": "63bc0025-e04f-493c-e78a-b842dc15b38c"
      },
      "execution_count": 41,
      "outputs": [
        {
          "output_type": "stream",
          "name": "stdout",
          "text": [
            "Shipments: [[50 60 55 70 65 80 90]\n",
            " [40 45 50 60 55 70 75]]\n",
            "Apples shipped on Wednesday: 55\n",
            "Oranges shipped on Sunday: 75\n",
            "Weekday shipments (Mon–Fri) for all fruits. [[50 60 55 70 65]\n",
            " [40 45 50 60 55]]\n",
            "Weekend shipments (Sat & Sun). [[80 90]\n",
            " [70 75]]\n",
            "Apples from Wednesday to Saturday. [55 70 65 80]\n",
            "Shipments: [[ 50  60  55  70  65 100  90]\n",
            " [ 40  45  50  60  55  70  75]]\n"
          ]
        }
      ]
    },
    {
      "cell_type": "markdown",
      "source": [
        "Array Operations"
      ],
      "metadata": {
        "id": "a2KFgqI5W4PN"
      }
    },
    {
      "cell_type": "code",
      "source": [
        "a=np.array([1,2,3])\n",
        "b=np.array([4,5,6])\n",
        "print(\"Addition\",a+b)\n",
        "print(\"Subtraction\",a-b)\n",
        "print(\"Multiplication\",a*b)\n",
        "print(\"Division\",a/b)\n",
        "print(\"Scalar\",a*2)\n",
        "print(\"floor division\",a//b)\n",
        "#matrix operations\n",
        "mat1=np.array([[1,2],[5,7]])\n",
        "mat2=np.array([[4,5],[8,9]])\n",
        "print(\"Matrix Addition\",mat1+mat2)\n",
        "print(\"Matrix Difference\",mat1-mat2)\n",
        "pro=np.dot(mat1,mat2)\n",
        "print(\"Multiplication\",pro)"
      ],
      "metadata": {
        "colab": {
          "base_uri": "https://localhost:8080/"
        },
        "id": "aXayMbfXW6g2",
        "outputId": "b3c6c692-cab2-4be8-d12a-3dd5d7ef9b9a"
      },
      "execution_count": 45,
      "outputs": [
        {
          "output_type": "stream",
          "name": "stdout",
          "text": [
            "Addition [5 7 9]\n",
            "Subtraction [-3 -3 -3]\n",
            "Multiplication [ 4 10 18]\n",
            "Division [0.25 0.4  0.5 ]\n",
            "Scalar [2 4 6]\n",
            "floor division [0 0 0]\n",
            "Matrix Addition [[ 5  7]\n",
            " [13 16]]\n",
            "Matrix Difference [[-3 -3]\n",
            " [-3 -2]]\n",
            "Multiplication [[20 23]\n",
            " [76 88]]\n"
          ]
        }
      ]
    },
    {
      "cell_type": "markdown",
      "source": [
        "Broadcasting:\n",
        "Numpy automatically applies operations across arrays of different shapes when compatible"
      ],
      "metadata": {
        "id": "zhYv3dFoZqxa"
      }
    },
    {
      "cell_type": "code",
      "source": [
        "a=np.array([1,2,3])\n",
        "b=2\n",
        "print(a+b)"
      ],
      "metadata": {
        "colab": {
          "base_uri": "https://localhost:8080/"
        },
        "id": "QRVoxiyYZTRg",
        "outputId": "a6fe0255-a266-4cc6-f216-fa5fb01e6978"
      },
      "execution_count": 46,
      "outputs": [
        {
          "output_type": "stream",
          "name": "stdout",
          "text": [
            "[3 4 5]\n"
          ]
        }
      ]
    },
    {
      "cell_type": "markdown",
      "source": [
        "Universal Functions\n",
        ". Arithmetic ufuncs\n",
        "Operate element-wise on arrays.\n",
        "np.add(x, y)\n",
        "np.subtract(x, y)\n",
        "np.multiply(x, y)\n",
        "np.divide(x, y)\n",
        "np.power(x, y)\n",
        "np.mod(x, y)\n",
        "🔹 2. Exponential and Logarithmic ufuncs\n",
        "(You already covered these)\n",
        "np.exp(x)\n",
        "np.log(x)\n",
        "np.log10(x)\n",
        "np.log2(x)\n",
        "np.expm1(x)    # exp(x) - 1\n",
        "🔹 3. Trigonometric ufuncs\n",
        "np.sin(x)\n",
        "np.cos(x)\n",
        "np.tan(x)\n",
        "np.arcsin(x)\n",
        "np.arccos(x)\n",
        "np.arctan(x)\n",
        "np.degrees(x)\n",
        "np.radians(x)\n",
        "🔹 4. Rounding ufuncs\n",
        "np.round(x)\n",
        "np.floor(x)\n",
        "np.ceil(x)\n",
        "np.trunc(x)\n",
        "🔹 5. Statistical ufuncs\n",
        "(Operate along an axis or entire array)\n",
        "np.min(x)\n",
        "np.max(x)\n",
        "np.mean(x)\n",
        "np.std(x)\n",
        "np.var(x)\n",
        "np.sum(x)\n",
        "np.prod(x)\n",
        "🔹 6. Logical ufuncs\n",
        "np.logical_and(x, y)\n",
        "np.logical_or(x, y)\n",
        "np.logical_not(x)\n",
        "np.logical_xor(x, y)\n",
        "🔹 7. Comparison ufuncs\n",
        "(Return Boolean arrays)\n",
        "np.greater(x, y)\n",
        "np.less(x, y)\n",
        "np.equal(x, y)\n",
        "np.not_equal(x, y)\n",
        "np.greater_equal(x, y)\n",
        "np.less_equal(x, y)\n",
        "🔹 8. Bitwise ufuncs\n",
        "(Operate on integers)\n",
        "np.bitwise_and(x, y)\n",
        "np.bitwise_or(x, y)\n",
        "np.bitwise_xor(x, y)\n",
        "np.invert(x)"
      ],
      "metadata": {
        "id": "6WcP43ytZwoy"
      }
    },
    {
      "cell_type": "code",
      "source": [
        "arr=np.array([1,2,3])\n",
        "print(np.exp(arr))\n",
        "print(np.sqrt(arr))\n",
        "print(np.log(arr))\n",
        "print(np.power(arr,2))\n",
        "print(np.sin(arr))\n",
        "arr2=np.array([5.8,6.3,9.7])\n",
        "print(np.round(arr2))\n",
        "print(np.floor(arr2))"
      ],
      "metadata": {
        "colab": {
          "base_uri": "https://localhost:8080/"
        },
        "id": "Cc_wd3-OZzUO",
        "outputId": "7b05e139-385c-43dd-847d-bf1e86300c47"
      },
      "execution_count": 50,
      "outputs": [
        {
          "output_type": "stream",
          "name": "stdout",
          "text": [
            "[ 2.71828183  7.3890561  20.08553692]\n",
            "[1.         1.41421356 1.73205081]\n",
            "[0.         0.69314718 1.09861229]\n",
            "[1 4 9]\n",
            "[0.84147098 0.90929743 0.14112001]\n",
            "[ 6.  6. 10.]\n",
            "[5. 6. 9.]\n"
          ]
        }
      ]
    },
    {
      "cell_type": "markdown",
      "source": [
        "Aggregate Functions"
      ],
      "metadata": {
        "id": "SrhN69wdcFAy"
      }
    },
    {
      "cell_type": "code",
      "source": [
        "arr=np.array([1,2,3,4])\n",
        "print(\"Array:\",arr)\n",
        "print(\"Sum:\",np.sum(arr))\n",
        "print(\"Mean:\",np.mean(arr))\n",
        "print(\"Standard Deviation:\",np.std(arr))\n",
        "print(\"Max:\",np.max(arr))\n",
        "print(\"Min:\",np.min(arr))"
      ],
      "metadata": {
        "colab": {
          "base_uri": "https://localhost:8080/"
        },
        "id": "zBo2Xf0rcHrC",
        "outputId": "8a4c8dd9-ecc6-451c-a3a4-ea0fd471531e"
      },
      "execution_count": 53,
      "outputs": [
        {
          "output_type": "stream",
          "name": "stdout",
          "text": [
            "Array: [1 2 3 4]\n",
            "Sum: 10\n",
            "Mean: 2.5\n",
            "Standard Deviation: 1.118033988749895\n",
            "Max: 4\n",
            "Min: 1\n"
          ]
        }
      ]
    },
    {
      "cell_type": "markdown",
      "source": [
        "You are a data engineer at a renewable-energy company that runs 3 solar farms.\n",
        "\n",
        " Each farm has 4 solar panels, and each panel reports hourly energy production (kWh) for 3 hours during a test window.\n",
        "\n",
        "Given data (raw)\n",
        "Create arrays from these values:\n",
        "production — shape (3 farms × 4 panels × 3 hours) represented as a 2D array per farm (you can stack/create as shown in tasks).\n",
        "Farm A panels (rows = panels, cols = hours):\n",
        "\n",
        "Tasks\n",
        "Create arrays\n",
        "Create three 2D NumPy arrays farmA, farmB, farmC (each shape (4,3)).\n",
        "Stack them into a single 3D array production_all of shape (3, 4, 3).\n",
        "Array attributes\n",
        "Print the .shape, .size, .dtype, and .ndim of production_all.\n",
        "Per-farm totals (arithmetic & aggregation)\n",
        "Use aggregation ufuncs to compute the total energy per farm (sum across panels & hours) → total_per_farm (shape (3,)).\n",
        "Compute mean, std, and var per farm.\n",
        "Per-hour matrix multiplication idea (matrix op)\n",
        "For a quick weighted estimate, create a hour_weights row vector of shape (3,) = [0.5, 1.0, 0.75] (weights for hour1, hour2, hour3).\n",
        "Compute weighted_per_panel by performing a dot product between each farm's panel-row and hour_weights to get per-panel weighted energy. (Use np.dot / matrix multiplication appropriately.)\n",
        "Broadcasting adjustments\n",
        "The operator notices a fixed calibration offset of +0.5 kWh for all panels in Farm B. Use broadcasting to add this offset to Farm B data inside production_all (without recreating whole array manually).\n",
        "Element-wise arithmetic (ufuncs: add/sub/mul/div/power/mod)\n",
        "Compute a normalized version where you:\n",
        "subtract the per-farm mean (use broadcasting),\n",
        "divide by the per-farm std (broadcasting) — i.e., z-score normalize each farm's panel-hour readings.\n",
        "Apply many ufuncs (use the ufuncs listed previously)\n",
        "\n",
        " Apply the following element-wise operations (create variables for each) on the normalized data (or a copy) and show the resulting arrays (or summaries — shape/dtype/first row) where appropriate:\n",
        "Exponential family: np.exp, np.expm1, np.log (note: handle non-positive inputs if needed), np.log10, np.log2.\n",
        "Trigonometric: np.sin, np.cos, np.tan, np.arcsin, np.arccos, np.arctan, plus np.degrees, np.radians applied appropriately.\n",
        "Rounding: np.round, np.floor, np.ceil, np.trunc.\n",
        "Comparison & logical ufuncs: create a boolean mask high_output = production_all > 20 and apply np.logical_and, np.logical_or, np.logical_not, np.logical_xor combining masks (e.g., high_output and even_hours_mask). Also use comparison ufuncs like np.greater_equal, np.less.\n",
        "Bitwise ufuncs (on integer arrays): create an integer array alerts = np.array([[1,0,1],[0,0,1],[1,1,0],[0,1,0]]) for each farm (shape match required) — then apply np.bitwise_and, np.bitwise_or, np.invert where sensible.\n",
        "Arithmetic ufuncs again: np.add, np.subtract, np.multiply, np.divide, np.power, np.mod.\n",
        "Aggregations over ufunc outputs: e.g., np.sum(np.exp(...)), np.mean(np.sin(...)).\n",
        "Broadcast-based summary table\n",
        "Use broadcasting to compute a (3,4) array panel_totals_per_farm = total per panel (sum across hours for each panel), and then compute a (3,) boolean needs_maintenance saying True if any panel in that farm has total < 40. Use np.min, np.max, np.any, np.all.\n",
        "Final KPIs (aggregation)\n",
        "Compute:\n",
        "overall_total (sum of all farms),\n",
        "peak_hour value (max across hours) and which farm & panel produced it (use np.argmax with careful unraveling),\n",
        "average_per_panel across all farms.\n"
      ],
      "metadata": {
        "id": "4uMDorjIdMgI"
      }
    },
    {
      "cell_type": "code",
      "source": [
        "farmA=np.array([[10,12,11],[9,11,10],[12,13,14],[8,7,9]])\n",
        "farmB=np.array([[20,19,21],[18,20,19],[22,23,21],[17,18,16]])\n",
        "farmC=np.array([[15,16,14],[14,13,15],[16,17,18],[12,11,13]])\n",
        "production_all=np.stack((farmA,farmB,farmC),dtype=float)\n",
        "print(\"Production\",production_all)\n",
        "print(\"Shape\",np.shape(production_all))\n",
        "print(\"Size\",np.size(production_all))\n",
        "print(\"DType\",production_all.dtype)\n",
        "print(\"No of dim\",np.ndim(production_all))\n",
        "total_per_farm=np.sum(production_all,axis=(1,2))\n",
        "print(\"Total Per farm\",total_per_farm)\n",
        "print(\"Mean\",np.mean(production_all,axis=(1,2)))\n",
        "print(\"Standard Deviation\",np.std(production_all,axis=(1,2)))\n",
        "print(\"Variance\",np.var(production_all,axis=(1,2)))\n",
        "hour_weights = np.array([0.5, 1.0, 0.75])\n",
        "weighted_per_panel = np.dot(production_all, hour_weights)\n",
        "print(\"Weighted per-panel production (3 farms × 4 panels):\\n\", weighted_per_panel)\n",
        "print(\"\\nShape:\", weighted_per_panel.shape)\n",
        "production_all[1]+=0.5\n",
        "print(\"Updated Production\",production_all)\n",
        "farm_means=np.mean(production_all,axis=(1,2))\n",
        "farm_std=np.std(production_all,axis=(1,2))\n",
        "normalized=(production_all-farm_means)/farm_std\n",
        "print(\"Normalized\",normalized)\n",
        "print(np.exp(normalized))\n",
        "print(np.expm1(normalized))\n",
        "print(np.cos(normalized))\n",
        "print(np.tan(normalized))\n",
        "\n",
        "print(np.degrees(normalized))\n",
        "print(np.radians(normalized))\n",
        "print(np.round(normalized))\n",
        "print(np.floor(normalized))\n",
        "print(np.ceil(normalized))\n",
        "print(np.trunc(normalized))\n",
        "high_output = production_all > 20\n",
        "print(\"High Output:\\n\", high_output)\n",
        "even_hours_mask = np.array([False, True, False])\n",
        "and_mask = np.logical_and(high_output, even_hours_mask)\n",
        "and_mask = np.logical_and(high_output, even_hours_mask)\n",
        "or_mask  = np.logical_or(high_output, even_hours_mask)\n",
        "not_mask = np.logical_not(high_output)\n",
        "xor_mask = np.logical_xor(high_output, even_hours_mask)\n",
        "\n",
        "print(\"\\nLogical AND (high & even-hour):\\n\", and_mask)\n",
        "print(\"\\nLogical OR (high | even-hour):\\n\", or_mask)\n",
        "print(\"\\nLogical NOT (not high output):\\n\", not_mask)\n",
        "print(\"\\nLogical XOR (exclusive high/even):\\n\", xor_mask)\n",
        "greater_equal_mask = np.greater_equal(production_all, 20)\n",
        "less_mask = np.less(production_all, 18)\n",
        "\n",
        "print(\"\\nGreater or Equal to 20:\\n\", greater_equal_mask)\n",
        "print(\"\\nLess than 18:\\n\", less_mask)\n",
        "alerts = np.array([\n",
        "    [[1,0,1],\n",
        "     [0,0,1],\n",
        "     [1,1,0],\n",
        "     [0,1,0]],\n",
        "\n",
        "    [[0,1,1],\n",
        "     [1,0,0],\n",
        "     [0,1,1],\n",
        "     [1,1,0]],\n",
        "\n",
        "    [[1,1,0],\n",
        "     [0,0,1],\n",
        "     [1,1,1],\n",
        "     [0,1,0]]\n",
        "], dtype=int)\n",
        "\n",
        "bit_and = np.bitwise_and(alerts[0], alerts[1])\n",
        "bit_or  = np.bitwise_or(alerts[1], alerts[2])\n",
        "bit_not = np.invert(alerts[2])\n",
        "\n",
        "print(\"\\nBitwise AND (FarmA & FarmB):\\n\", bit_and)\n",
        "print(\"\\nBitwise OR (FarmB | FarmC):\\n\", bit_or)\n",
        "print(\"\\nBitwise NOT (~FarmC):\\n\", bit_not)\n",
        "# Arithmetic ufuncs on production_all\n",
        "added      = np.add(production_all, 2)\n",
        "subtracted = np.subtract(production_all, 1)\n",
        "multiplied = np.multiply(production_all, 1.1)\n",
        "divided    = np.divide(production_all, 2)\n",
        "powered    = np.power(production_all, 2)\n",
        "modded     = np.mod(production_all, 5)\n",
        "\n",
        "print(\"\\nAdded (+2):\\n\", added[0])\n",
        "print(\"\\nDivided by 2:\\n\", divided[2])\n",
        "\n",
        "# Aggregation over ufunc results\n",
        "exp_sum  = np.sum(np.exp(production_all / 10))\n",
        "sin_mean = np.mean(np.sin(production_all))\n",
        "\n",
        "print(\"\\nSum of exp(production_all/10):\", exp_sum)\n",
        "print(\"Mean of sin(production_all):\", sin_mean)\n",
        "panel_totals_per_farm = np.sum(production_all, axis=2)\n",
        "print(\"Panel Totals per Farm (3×4):\\n\", panel_totals_per_farm)\n",
        "needs_maintenance = np.any(panel_totals_per_farm < 40, axis=1)\n",
        "print(\"\\nNeeds Maintenance (3,):\\n\", needs_maintenance)\n",
        "min_per_farm = np.min(panel_totals_per_farm, axis=1)\n",
        "max_per_farm = np.max(panel_totals_per_farm, axis=1)\n",
        "any_below_40 = np.any(panel_totals_per_farm < 40, axis=1)\n",
        "all_above_40 = np.all(panel_totals_per_farm >= 40, axis=1)\n",
        "\n",
        "summary_table = np.vstack([min_per_farm, max_per_farm, any_below_40, all_above_40]).T\n",
        "print(\"\\nBroadcast-based Summary Table (per Farm):\")\n",
        "print(\"Columns = [Min_Total, Max_Total, Any_Below_40, All_Above_40]\\n\")\n",
        "print(summary_table)\n",
        "# a) Overall total\n",
        "overall_total = np.sum(production_all)\n",
        "\n",
        "# b) Peak hour (max value) and its position\n",
        "peak_value = np.max(production_all)\n",
        "peak_index = np.unravel_index(np.argmax(production_all), production_all.shape)\n",
        "peak_farm, peak_panel, peak_hour = peak_index\n",
        "\n",
        "# c) Average per panel\n",
        "average_per_panel = np.mean(panel_totals_per_farm)\n",
        "\n",
        "print(\"\\n--- FINAL KPIs ---\")\n",
        "print(f\"Overall Total Energy Output: {overall_total:.2f} kWh\")\n",
        "print(f\"Peak Hour Value: {peak_value:.2f} kWh (Farm {peak_farm}, Panel {peak_panel}, Hour {peak_hour})\")\n",
        "print(f\"Average Production per Panel: {average_per_panel:.2f} kWh\")\n"
      ],
      "metadata": {
        "colab": {
          "base_uri": "https://localhost:8080/"
        },
        "id": "zpzUkj23dNoU",
        "outputId": "a8f041af-3a9f-47ab-f735-ab99397b1bbf"
      },
      "execution_count": 82,
      "outputs": [
        {
          "output_type": "stream",
          "name": "stdout",
          "text": [
            "Production [[[10. 12. 11.]\n",
            "  [ 9. 11. 10.]\n",
            "  [12. 13. 14.]\n",
            "  [ 8.  7.  9.]]\n",
            "\n",
            " [[20. 19. 21.]\n",
            "  [18. 20. 19.]\n",
            "  [22. 23. 21.]\n",
            "  [17. 18. 16.]]\n",
            "\n",
            " [[15. 16. 14.]\n",
            "  [14. 13. 15.]\n",
            "  [16. 17. 18.]\n",
            "  [12. 11. 13.]]]\n",
            "Shape (3, 4, 3)\n",
            "Size 36\n",
            "DType float64\n",
            "No of dim 3\n",
            "Total Per farm [126. 234. 174.]\n",
            "Mean [10.5 19.5 14.5]\n",
            "Standard Deviation [1.97905701 1.97905701 1.97905701]\n",
            "Variance [3.91666667 3.91666667 3.91666667]\n",
            "Weighted per-panel production (3 farms × 4 panels):\n",
            " [[25.25 23.   29.5  17.75]\n",
            " [44.75 43.25 49.75 38.5 ]\n",
            " [34.   31.25 38.5  26.75]]\n",
            "\n",
            "Shape: (3, 4)\n",
            "Updated Production [[[10.  12.  11. ]\n",
            "  [ 9.  11.  10. ]\n",
            "  [12.  13.  14. ]\n",
            "  [ 8.   7.   9. ]]\n",
            "\n",
            " [[20.5 19.5 21.5]\n",
            "  [18.5 20.5 19.5]\n",
            "  [22.5 23.5 21.5]\n",
            "  [17.5 18.5 16.5]]\n",
            "\n",
            " [[15.  16.  14. ]\n",
            "  [14.  13.  15. ]\n",
            "  [16.  17.  18. ]\n",
            "  [12.  11.  13. ]]]\n",
            "Normalized [[[-0.25264558 -4.04232922 -1.76851903]\n",
            "  [-0.75793673 -4.54762037 -2.27381019]\n",
            "  [ 0.75793673 -3.53703807 -0.25264558]\n",
            "  [-1.26322788 -6.56878498 -2.77910134]]\n",
            "\n",
            " [[ 5.05291153 -0.25264558  3.53703807]\n",
            "  [ 4.04232922  0.25264558  2.52645576]\n",
            "  [ 6.06349383  1.76851903  3.53703807]\n",
            "  [ 3.53703807 -0.75793673  1.01058231]]\n",
            "\n",
            " [[ 2.27381019 -2.02116461 -0.25264558]\n",
            "  [ 1.76851903 -3.53703807  0.25264558]\n",
            "  [ 2.77910134 -1.51587346  1.76851903]\n",
            "  [ 0.75793673 -4.54762037 -0.75793673]]]\n",
            "[[[7.76743129e-01 1.75565317e-02 1.70585433e-01]\n",
            "  [4.68632346e-01 1.05923803e-02 1.02919290e-01]\n",
            "  [2.13386893e+00 2.90993900e-02 7.76743129e-01]\n",
            "  [2.82739901e-01 1.40350165e-03 6.20942840e-02]]\n",
            "\n",
            " [[1.56477390e+02 7.76743129e-01 3.43649816e+01]\n",
            "  [5.69588582e+01 1.28742690e+00 1.25090923e+01]\n",
            "  [4.29874726e+02 5.86216526e+00 3.43649816e+01]\n",
            "  [3.43649816e+01 4.68632346e-01 2.74720026e+00]]\n",
            "\n",
            " [[9.71635149e+00 1.32501063e-01 7.76743129e-01]\n",
            "  [5.86216526e+00 2.90993900e-02 1.28742690e+00]\n",
            "  [1.61045419e+01 2.19616275e-01 5.86216526e+00]\n",
            "  [2.13386893e+00 1.05923803e-02 4.68632346e-01]]]\n",
            "[[[-2.23256871e-01 -9.82443468e-01 -8.29414567e-01]\n",
            "  [-5.31367654e-01 -9.89407620e-01 -8.97080710e-01]\n",
            "  [ 1.13386893e+00 -9.70900610e-01 -2.23256871e-01]\n",
            "  [-7.17260099e-01 -9.98596498e-01 -9.37905716e-01]]\n",
            "\n",
            " [[ 1.55477390e+02 -2.23256871e-01  3.33649816e+01]\n",
            "  [ 5.59588582e+01  2.87426901e-01  1.15090923e+01]\n",
            "  [ 4.28874726e+02  4.86216526e+00  3.33649816e+01]\n",
            "  [ 3.33649816e+01 -5.31367654e-01  1.74720026e+00]]\n",
            "\n",
            " [[ 8.71635149e+00 -8.67498937e-01 -2.23256871e-01]\n",
            "  [ 4.86216526e+00 -9.70900610e-01  2.87426901e-01]\n",
            "  [ 1.51045419e+01 -7.80383725e-01  4.86216526e+00]\n",
            "  [ 1.13386893e+00 -9.89407620e-01 -5.31367654e-01]]]\n",
            "[[[ 0.96825451 -0.62103283 -0.19643692]\n",
            "  [ 0.7262559  -0.16402408 -0.64651989]\n",
            "  [ 0.7262559  -0.92282507  0.96825451]\n",
            "  [ 0.30274209  0.95949288 -0.93501629]]\n",
            "\n",
            " [[ 0.33397968  0.96825451 -0.92282507]\n",
            "  [-0.62103283  0.96825451 -0.81669446]\n",
            "  [ 0.97596473 -0.19643692 -0.92282507]\n",
            "  [-0.92282507  0.7262559   0.53136752]]\n",
            "\n",
            " [[-0.64651989 -0.43529712  0.96825451]\n",
            "  [-0.19643692 -0.92282507  0.96825451]\n",
            "  [-0.93501629  0.05489526 -0.19643692]\n",
            "  [ 0.7262559  -0.16402408  0.7262559 ]]]\n",
            "[[[ -0.2581619   -1.26206622   4.99150805]\n",
            "  [ -0.946532    -6.01409476   1.18000568]\n",
            "  [  0.946532    -0.41743476  -0.2581619 ]\n",
            "  [ -3.14813356  -0.29362687   0.37924981]]\n",
            "\n",
            " [[ -2.82226834  -0.2581619    0.41743476]\n",
            "  [  1.26206622   0.2581619   -0.70659268]\n",
            "  [ -0.22329549  -4.99150805   0.41743476]\n",
            "  [  0.41743476  -0.946532     1.59426645]]\n",
            "\n",
            " [[ -1.18000568   2.06821226  -0.2581619 ]\n",
            "  [ -4.99150805  -0.41743476   0.2581619 ]\n",
            "  [ -0.37924981 -18.18904058  -4.99150805]\n",
            "  [  0.946532    -6.01409476  -0.946532  ]]]\n",
            "[[[ -14.47552524 -231.60840377 -101.32867665]\n",
            "  [ -43.42657571 -260.55945424 -130.27972712]\n",
            "  [  43.42657571 -202.6573533   -14.47552524]\n",
            "  [ -72.37762618 -376.36365613 -159.23077759]]\n",
            "\n",
            " [[ 289.51050472  -14.47552524  202.6573533 ]\n",
            "  [ 231.60840377   14.47552524  144.75525236]\n",
            "  [ 347.41260566  101.32867665  202.6573533 ]\n",
            "  [ 202.6573533   -43.42657571   57.90210094]]\n",
            "\n",
            " [[ 130.27972712 -115.80420189  -14.47552524]\n",
            "  [ 101.32867665 -202.6573533    14.47552524]\n",
            "  [ 159.23077759  -86.85315141  101.32867665]\n",
            "  [  43.42657571 -260.55945424  -43.42657571]]]\n",
            "[[[-0.0044095  -0.07055195 -0.03086648]\n",
            "  [-0.01322849 -0.07937095 -0.03968547]\n",
            "  [ 0.01322849 -0.06173296 -0.0044095 ]\n",
            "  [-0.02204749 -0.11464693 -0.04850447]]\n",
            "\n",
            " [[ 0.08818994 -0.0044095   0.06173296]\n",
            "  [ 0.07055195  0.0044095   0.04409497]\n",
            "  [ 0.10582793  0.03086648  0.06173296]\n",
            "  [ 0.06173296 -0.01322849  0.01763799]]\n",
            "\n",
            " [[ 0.03968547 -0.03527598 -0.0044095 ]\n",
            "  [ 0.03086648 -0.06173296  0.0044095 ]\n",
            "  [ 0.04850447 -0.02645698  0.03086648]\n",
            "  [ 0.01322849 -0.07937095 -0.01322849]]]\n",
            "[[[-0. -4. -2.]\n",
            "  [-1. -5. -2.]\n",
            "  [ 1. -4. -0.]\n",
            "  [-1. -7. -3.]]\n",
            "\n",
            " [[ 5. -0.  4.]\n",
            "  [ 4.  0.  3.]\n",
            "  [ 6.  2.  4.]\n",
            "  [ 4. -1.  1.]]\n",
            "\n",
            " [[ 2. -2. -0.]\n",
            "  [ 2. -4.  0.]\n",
            "  [ 3. -2.  2.]\n",
            "  [ 1. -5. -1.]]]\n",
            "[[[-1. -5. -2.]\n",
            "  [-1. -5. -3.]\n",
            "  [ 0. -4. -1.]\n",
            "  [-2. -7. -3.]]\n",
            "\n",
            " [[ 5. -1.  3.]\n",
            "  [ 4.  0.  2.]\n",
            "  [ 6.  1.  3.]\n",
            "  [ 3. -1.  1.]]\n",
            "\n",
            " [[ 2. -3. -1.]\n",
            "  [ 1. -4.  0.]\n",
            "  [ 2. -2.  1.]\n",
            "  [ 0. -5. -1.]]]\n",
            "[[[-0. -4. -1.]\n",
            "  [-0. -4. -2.]\n",
            "  [ 1. -3. -0.]\n",
            "  [-1. -6. -2.]]\n",
            "\n",
            " [[ 6. -0.  4.]\n",
            "  [ 5.  1.  3.]\n",
            "  [ 7.  2.  4.]\n",
            "  [ 4. -0.  2.]]\n",
            "\n",
            " [[ 3. -2. -0.]\n",
            "  [ 2. -3.  1.]\n",
            "  [ 3. -1.  2.]\n",
            "  [ 1. -4. -0.]]]\n",
            "[[[-0. -4. -1.]\n",
            "  [-0. -4. -2.]\n",
            "  [ 0. -3. -0.]\n",
            "  [-1. -6. -2.]]\n",
            "\n",
            " [[ 5. -0.  3.]\n",
            "  [ 4.  0.  2.]\n",
            "  [ 6.  1.  3.]\n",
            "  [ 3. -0.  1.]]\n",
            "\n",
            " [[ 2. -2. -0.]\n",
            "  [ 1. -3.  0.]\n",
            "  [ 2. -1.  1.]\n",
            "  [ 0. -4. -0.]]]\n",
            "High Output:\n",
            " [[[False False False]\n",
            "  [False False False]\n",
            "  [False False False]\n",
            "  [False False False]]\n",
            "\n",
            " [[ True False  True]\n",
            "  [False  True False]\n",
            "  [ True  True  True]\n",
            "  [False False False]]\n",
            "\n",
            " [[False False False]\n",
            "  [False False False]\n",
            "  [False False False]\n",
            "  [False False False]]]\n",
            "\n",
            "Logical AND (high & even-hour):\n",
            " [[[False False False]\n",
            "  [False False False]\n",
            "  [False False False]\n",
            "  [False False False]]\n",
            "\n",
            " [[False False False]\n",
            "  [False  True False]\n",
            "  [False  True False]\n",
            "  [False False False]]\n",
            "\n",
            " [[False False False]\n",
            "  [False False False]\n",
            "  [False False False]\n",
            "  [False False False]]]\n",
            "\n",
            "Logical OR (high | even-hour):\n",
            " [[[False  True False]\n",
            "  [False  True False]\n",
            "  [False  True False]\n",
            "  [False  True False]]\n",
            "\n",
            " [[ True  True  True]\n",
            "  [False  True False]\n",
            "  [ True  True  True]\n",
            "  [False  True False]]\n",
            "\n",
            " [[False  True False]\n",
            "  [False  True False]\n",
            "  [False  True False]\n",
            "  [False  True False]]]\n",
            "\n",
            "Logical NOT (not high output):\n",
            " [[[ True  True  True]\n",
            "  [ True  True  True]\n",
            "  [ True  True  True]\n",
            "  [ True  True  True]]\n",
            "\n",
            " [[False  True False]\n",
            "  [ True False  True]\n",
            "  [False False False]\n",
            "  [ True  True  True]]\n",
            "\n",
            " [[ True  True  True]\n",
            "  [ True  True  True]\n",
            "  [ True  True  True]\n",
            "  [ True  True  True]]]\n",
            "\n",
            "Logical XOR (exclusive high/even):\n",
            " [[[False  True False]\n",
            "  [False  True False]\n",
            "  [False  True False]\n",
            "  [False  True False]]\n",
            "\n",
            " [[ True  True  True]\n",
            "  [False False False]\n",
            "  [ True False  True]\n",
            "  [False  True False]]\n",
            "\n",
            " [[False  True False]\n",
            "  [False  True False]\n",
            "  [False  True False]\n",
            "  [False  True False]]]\n",
            "\n",
            "Greater or Equal to 20:\n",
            " [[[False False False]\n",
            "  [False False False]\n",
            "  [False False False]\n",
            "  [False False False]]\n",
            "\n",
            " [[ True False  True]\n",
            "  [False  True False]\n",
            "  [ True  True  True]\n",
            "  [False False False]]\n",
            "\n",
            " [[False False False]\n",
            "  [False False False]\n",
            "  [False False False]\n",
            "  [False False False]]]\n",
            "\n",
            "Less than 18:\n",
            " [[[ True  True  True]\n",
            "  [ True  True  True]\n",
            "  [ True  True  True]\n",
            "  [ True  True  True]]\n",
            "\n",
            " [[False False False]\n",
            "  [False False False]\n",
            "  [False False False]\n",
            "  [ True False  True]]\n",
            "\n",
            " [[ True  True  True]\n",
            "  [ True  True  True]\n",
            "  [ True  True False]\n",
            "  [ True  True  True]]]\n",
            "\n",
            "Bitwise AND (FarmA & FarmB):\n",
            " [[0 0 1]\n",
            " [0 0 0]\n",
            " [0 1 0]\n",
            " [0 1 0]]\n",
            "\n",
            "Bitwise OR (FarmB | FarmC):\n",
            " [[1 1 1]\n",
            " [1 0 1]\n",
            " [1 1 1]\n",
            " [1 1 0]]\n",
            "\n",
            "Bitwise NOT (~FarmC):\n",
            " [[-2 -2 -1]\n",
            " [-1 -1 -2]\n",
            " [-2 -2 -2]\n",
            " [-1 -2 -1]]\n",
            "\n",
            "Added (+2):\n",
            " [[12. 14. 13.]\n",
            " [11. 13. 12.]\n",
            " [14. 15. 16.]\n",
            " [10.  9. 11.]]\n",
            "\n",
            "Divided by 2:\n",
            " [[7.5 8.  7. ]\n",
            " [7.  6.5 7.5]\n",
            " [8.  8.5 9. ]\n",
            " [6.  5.5 6.5]]\n",
            "\n",
            "Sum of exp(production_all/10): 177.5518613818654\n",
            "Mean of sin(production_all): 0.008554053201658736\n",
            "Panel Totals per Farm (3×4):\n",
            " [[33.  30.  39.  24. ]\n",
            " [61.5 58.5 67.5 52.5]\n",
            " [45.  42.  51.  36. ]]\n",
            "\n",
            "Needs Maintenance (3,):\n",
            " [ True False  True]\n",
            "\n",
            "Broadcast-based Summary Table (per Farm):\n",
            "Columns = [Min_Total, Max_Total, Any_Below_40, All_Above_40]\n",
            "\n",
            "[[24.  39.   1.   0. ]\n",
            " [52.5 67.5  0.   1. ]\n",
            " [36.  51.   1.   0. ]]\n",
            "\n",
            "--- FINAL KPIs ---\n",
            "Overall Total Energy Output: 540.00 kWh\n",
            "Peak Hour Value: 23.50 kWh (Farm 1, Panel 2, Hour 1)\n",
            "Average Production per Panel: 45.00 kWh\n"
          ]
        }
      ]
    },
    {
      "cell_type": "markdown",
      "source": [
        "Reshape"
      ],
      "metadata": {
        "id": "0O6mOHWR2Cs6"
      }
    },
    {
      "cell_type": "code",
      "source": [
        "arr=np.array([1,2,3,4,5,6])\n",
        "reshaped=arr.reshape(2,3)\n",
        "print(reshaped)"
      ],
      "metadata": {
        "colab": {
          "base_uri": "https://localhost:8080/"
        },
        "id": "sWP-49Tz2GKd",
        "outputId": "f60562a8-40a8-4d17-a3a4-1b3f6d719c24"
      },
      "execution_count": 78,
      "outputs": [
        {
          "output_type": "stream",
          "name": "stdout",
          "text": [
            "[[1 2 3]\n",
            " [4 5 6]]\n"
          ]
        }
      ]
    },
    {
      "cell_type": "markdown",
      "source": [
        "Stacking and Splitting\n"
      ],
      "metadata": {
        "id": "_2o4k2SR3inO"
      }
    },
    {
      "cell_type": "code",
      "source": [
        "a=np.array([1,2])\n",
        "b=np.array([3,4])\n",
        "print(np.vstack((a,b)))\n",
        "print(np.hstack((a,b)))\n",
        "arr=np.array([1,2,3,4,5,6])\n",
        "print(np.array_split(arr,3))\n",
        "print(np.array_split(arr,7))"
      ],
      "metadata": {
        "colab": {
          "base_uri": "https://localhost:8080/"
        },
        "id": "h-KSwImy3mKy",
        "outputId": "836a853e-d727-4ee0-fe0d-cb13d59bb592"
      },
      "execution_count": 84,
      "outputs": [
        {
          "output_type": "stream",
          "name": "stdout",
          "text": [
            "[[1 2]\n",
            " [3 4]]\n",
            "[1 2 3 4]\n",
            "[array([1, 2]), array([3, 4]), array([5, 6])]\n",
            "[array([1]), array([2]), array([3]), array([4]), array([5]), array([6]), array([], dtype=int64)]\n"
          ]
        }
      ]
    },
    {
      "cell_type": "markdown",
      "source": [
        "Adcanced Indexing"
      ],
      "metadata": {
        "id": "x-Z9oALz5Mu_"
      }
    },
    {
      "cell_type": "code",
      "source": [
        "#boolean indexing\n",
        "arr=np.array([1,2,3,4,5])\n",
        "print(arr[arr>3])\n",
        "#fancy indexing\n",
        "arr=np.array([10,20,30,40])\n",
        "indices=[0,2]\n",
        "print(arr[indices])"
      ],
      "metadata": {
        "colab": {
          "base_uri": "https://localhost:8080/"
        },
        "id": "xhJKHiGd5OzU",
        "outputId": "4ca75e09-238f-4506-d7c9-29853ec8fb75"
      },
      "execution_count": 85,
      "outputs": [
        {
          "output_type": "stream",
          "name": "stdout",
          "text": [
            "[4 5]\n",
            "[10 30]\n"
          ]
        }
      ]
    },
    {
      "cell_type": "markdown",
      "source": [
        "Copy vs View"
      ],
      "metadata": {
        "id": "gdn4QxWH50ys"
      }
    },
    {
      "cell_type": "code",
      "source": [
        "#view shares memory\n",
        "arr=np.array([1,2,3])\n",
        "view=arr.view()\n",
        "view[0]=10\n",
        "print(arr)\n",
        "#copy does not share memory\n",
        "copy=arr.copy()\n",
        "copy[0]=50\n",
        "print(arr)"
      ],
      "metadata": {
        "colab": {
          "base_uri": "https://localhost:8080/"
        },
        "id": "1vv4i_x_53We",
        "outputId": "939e54c7-9a43-4cca-9c46-e7dd7760158e"
      },
      "execution_count": 92,
      "outputs": [
        {
          "output_type": "stream",
          "name": "stdout",
          "text": [
            "[10  2  3]\n",
            "[10  2  3]\n"
          ]
        }
      ]
    },
    {
      "cell_type": "markdown",
      "source": [
        "Saving and Loading"
      ],
      "metadata": {
        "id": "3Fo90KGa6zqo"
      }
    },
    {
      "cell_type": "code",
      "source": [
        "arr=np.array([1,2,3])\n",
        "np.save('array.npy',arr)\n",
        "loaded_arr=np.load('array.npy')\n",
        "print(loaded_arr)"
      ],
      "metadata": {
        "colab": {
          "base_uri": "https://localhost:8080/"
        },
        "id": "eOOXbfCW61sU",
        "outputId": "8e19bc16-17e0-4d3e-8937-7170710a2b51"
      },
      "execution_count": 94,
      "outputs": [
        {
          "output_type": "stream",
          "name": "stdout",
          "text": [
            "[1 2 3]\n"
          ]
        }
      ]
    },
    {
      "cell_type": "markdown",
      "source": [
        "TasksArray Creation\n",
        "Create a 1D array of numbers from 10 to 50.\n",
        "Create a 3x3 array of random numbers between 0 and 1.\n",
        "Array Attributes\n",
        "Find the shape, size, and data type of the array you created in the previous task.\n",
        "Basic Operations\n",
        "Add 5 to every element of a 1D array.\n",
        "Multiply two 2D arrays element-wise.\n",
        "Indexing and Slicing\n",
        "Create a 5x5 array of integers from 1 to 25. Extract:\n",
        "The first row.\n",
        "The last column.\n",
        "A subarray of the first three rows and first two columns.\n",
        "Aggregation\n",
        "Create a 10-element array of random integers between 10 and 100. Find:\n",
        "The maximum value.\n",
        "The minimum value.\n",
        "The mean and standard deviation.\n",
        "Reshaping\n",
        "Convert a 1D array of numbers from 1 to 12 into a 3x4 matrix.\n",
        "Broadcasting\n",
        "Create a 3x3 matrix of ones. Add a 1D array [1, 2, 3] to each row.\n",
        "Filtering\n",
        "Create a 1D array of random integers between 1 and 50. Extract all elements that are divisible by 5.\n",
        "Matrix Multiplication\n",
        "Create two 2x2 matrices and perform matrix multiplication.\n",
        "Advanced Indexing\n",
        "Given a 4x4 array, use fancy indexing to extract the diagonal elements."
      ],
      "metadata": {
        "id": "kDVxEMil8BTw"
      }
    },
    {
      "cell_type": "code",
      "source": [
        "#Array with a range of values\n",
        "range_arr=np.arange(10,51)#Start,Stop,Step\n",
        "print(range_arr)\n",
        "random_arr=np.random.random((3,3))\n",
        "print(random_arr)\n",
        "print(\"Shape\",np.shape(range_arr))\n",
        "print(\"Size\",np.size(range_arr))\n",
        "print(\"DataType\",range_arr.dtype)\n",
        "arr=np.array([1,2,3,4,5])\n",
        "arr+=5\n",
        "print(arr)\n",
        "mat1=np.array([[1,2],[3,4]])\n",
        "may2=np.array([[5,6],[7,9]])\n",
        "mul=np.dot(mat1,mat2)\n",
        "print(mul)\n",
        "array=np.arange(1,26)\n",
        "reshaped=array.reshape(5,5)\n",
        "print(reshaped)\n",
        "print(reshaped[0])\n",
        "print(reshaped[:,4])\n",
        "print(reshaped[0:3,0:2])\n",
        "rand= np.random.randint(10, 101, size=10)\n",
        "print(rand)\n",
        "print(\"Max\",np.max(rand))\n",
        "print(\"Min\",np.min(rand))\n",
        "print(\"Mean\",np.mean(rand))\n",
        "print(\"Standard Deviation\",np.std(rand))\n",
        "arr2=np.arange(1,13)\n",
        "print(arr2)\n",
        "print(arr2.reshape(3,4))\n",
        "ones=np.ones((3,3))\n",
        "print(ones)\n",
        "ones[:,]+=[1,2,3]\n",
        "print(ones)\n",
        "rand2= np.random.randint(1,50,10)\n",
        "print(rand2)\n",
        "print(rand2[rand2%5==0])\n",
        "#fancy indexing\n",
        "arr3=np.array([[10,20,30,40],[78,56,23,12],[90,67,15,63],[15,86,92,26]])\n",
        "print(arr3)\n",
        "diagonals=arr3[np.arange(4),np.arange(4)]\n",
        "print(\"Diagonal elements\",diagonals)"
      ],
      "metadata": {
        "colab": {
          "base_uri": "https://localhost:8080/"
        },
        "id": "FFN979cX8dvs",
        "outputId": "565b7d73-a29b-4017-c1a3-7bc52adaba3c"
      },
      "execution_count": 135,
      "outputs": [
        {
          "output_type": "stream",
          "name": "stdout",
          "text": [
            "[10 11 12 13 14 15 16 17 18 19 20 21 22 23 24 25 26 27 28 29 30 31 32 33\n",
            " 34 35 36 37 38 39 40 41 42 43 44 45 46 47 48 49 50]\n",
            "[[0.41962202 0.61857807 0.77397015]\n",
            " [0.47301595 0.36836891 0.35795999]\n",
            " [0.0103694  0.71383294 0.15221268]]\n",
            "Shape (41,)\n",
            "Size 41\n",
            "DataType int64\n",
            "[ 6  7  8  9 10]\n",
            "[[20 23]\n",
            " [44 51]]\n",
            "[[ 1  2  3  4  5]\n",
            " [ 6  7  8  9 10]\n",
            " [11 12 13 14 15]\n",
            " [16 17 18 19 20]\n",
            " [21 22 23 24 25]]\n",
            "[1 2 3 4 5]\n",
            "[ 5 10 15 20 25]\n",
            "[[ 1  2]\n",
            " [ 6  7]\n",
            " [11 12]]\n",
            "[38 17 28 16 23 41 52 37 33 66]\n",
            "Max 66\n",
            "Min 16\n",
            "Mean 35.1\n",
            "Standard Deviation 14.767870530310049\n",
            "[ 1  2  3  4  5  6  7  8  9 10 11 12]\n",
            "[[ 1  2  3  4]\n",
            " [ 5  6  7  8]\n",
            " [ 9 10 11 12]]\n",
            "[[1. 1. 1.]\n",
            " [1. 1. 1.]\n",
            " [1. 1. 1.]]\n",
            "[[2. 3. 4.]\n",
            " [2. 3. 4.]\n",
            " [2. 3. 4.]]\n",
            "[38 40 30 10 46 19 22 25  5 44]\n",
            "[40 30 10 25  5]\n",
            "[[10 20 30 40]\n",
            " [78 56 23 12]\n",
            " [90 67 15 63]\n",
            " [15 86 92 26]]\n",
            "Diagonal elements [10 56 15 26]\n"
          ]
        }
      ]
    }
  ]
}